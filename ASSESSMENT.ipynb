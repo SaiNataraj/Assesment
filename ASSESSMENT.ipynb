{
  "nbformat": 4,
  "nbformat_minor": 0,
  "metadata": {
    "colab": {
      "provenance": []
    },
    "kernelspec": {
      "name": "python3",
      "display_name": "Python 3"
    },
    "language_info": {
      "name": "python"
    }
  },
  "cells": [
    {
      "cell_type": "code",
      "source": [
        "import pandas as pd\n",
        "import pyarrow.parquet as pq\n",
        "parquet_file_path = '/content/part-00199-4e325fbe-f437-4b53-8a36-0ef1a9544817-c000.snappy.parquet'\n",
        "if not os.path.exists(parquet_file_path):\n",
        "    raise FileNotFoundError(f\"File not found: {parquet_file_path}\")\n",
        "try:\n",
        "    pq.read_table(parquet_file_path)\n",
        "except Exception as e:\n",
        "    raise ValueError(f\"File is corrupted: {e}\")\n",
        "df = pd.read_parquet(parquet_file_path)\n",
        "print(df)"
      ],
      "metadata": {
        "colab": {
          "base_uri": "https://localhost:8080/"
        },
        "id": "dXyssWAdV8ft",
        "outputId": "45085376-c062-48d5-be08-1c0136efb0d7"
      },
      "execution_count": null,
      "outputs": [
        {
          "output_type": "stream",
          "name": "stdout",
          "text": [
            "                        full_name  \\\n",
            "0          Amelia Verdugo chanoca   \n",
            "1                Bartomeu Gabriel   \n",
            "2       danny esau herrera pineda   \n",
            "3                    ester choren   \n",
            "4                 Jaume balsellsj   \n",
            "...                           ...   \n",
            "181621         Wellington Mukunya   \n",
            "181622            Willard Munjoma   \n",
            "181623            William Mazviro   \n",
            "181624            William Simango   \n",
            "181625          Zesulwe Mnkandhla   \n",
            "\n",
            "                                               social_url  \\\n",
            "0       https://ad.linkedin.com/in/amelia-verdugo-chan...   \n",
            "1       https://ad.linkedin.com/in/bartomeu-gabriel-81...   \n",
            "2       https://ad.linkedin.com/in/danny-esau-herrera-...   \n",
            "3        https://ad.linkedin.com/in/ester-choren-079b4a17   \n",
            "4       https://ad.linkedin.com/in/jaume-balsellsj-89b...   \n",
            "...                                                   ...   \n",
            "181621  https://zw.linkedin.com/in/wellington-mukunya-...   \n",
            "181622  https://zw.linkedin.com/in/willard-munjoma-1b2...   \n",
            "181623  https://zw.linkedin.com/in/william-mazviro-279...   \n",
            "181624  https://zw.linkedin.com/in/william-simango-a34...   \n",
            "181625  https://zw.linkedin.com/in/zesulwe-mnkandhla-5...   \n",
            "\n",
            "                                                image_url  \\\n",
            "0       https://static.licdn.com/aero-v1/sc/h/244xhbkr...   \n",
            "1       https://static.licdn.com/aero-v1/sc/h/244xhbkr...   \n",
            "2       https://static.licdn.com/aero-v1/sc/h/1c5u578i...   \n",
            "3       https://static.licdn.com/aero-v1/sc/h/9c8pery4...   \n",
            "4       https://static.licdn.com/aero-v1/sc/h/9c8pery4...   \n",
            "...                                                   ...   \n",
            "181621  https://static.licdn.com/aero-v1/sc/h/9c8pery4...   \n",
            "181622  https://media.licdn.com/dms/image/C4E03AQEQjuW...   \n",
            "181623  https://static.licdn.com/aero-v1/sc/h/9c8pery4...   \n",
            "181624  https://static.licdn.com/aero-v1/sc/h/244xhbkr...   \n",
            "181625  https://static.licdn.com/aero-v1/sc/h/9c8pery4...   \n",
            "\n",
            "                         location  \\\n",
            "0       Andorra la Vella, Andorra   \n",
            "1                         Andorra   \n",
            "2                         Andorra   \n",
            "3                         Andorra   \n",
            "4                         Andorra   \n",
            "...                           ...   \n",
            "181621                   Zimbabwe   \n",
            "181622           Harare, Zimbabwe   \n",
            "181623                   Zimbabwe   \n",
            "181624                   Zimbabwe   \n",
            "181625                   Zimbabwe   \n",
            "\n",
            "                                                 position country_code  \\\n",
            "0                             Contable en Items assessors           ad   \n",
            "1                                                      --           ad   \n",
            "2                     jefe inmediato en mercadeo dirigido           ad   \n",
            "3                                 comercial en franc-port           ad   \n",
            "4                                                    None           ad   \n",
            "...                                                   ...          ...   \n",
            "181621                                               None           zw   \n",
            "181622  Ex Operations Manager at National Airport Serv...           zw   \n",
            "181623                       Owner, Supreme Media Designs           zw   \n",
            "181624              Mine Surveyor at Falcon Gold Zimbabwe           zw   \n",
            "181625                                               None           zw   \n",
            "\n",
            "                                                 about_me websites  \\\n",
            "0                                                    None     None   \n",
            "1                                                    None     None   \n",
            "2                                                    None     None   \n",
            "3                                                    None     None   \n",
            "4                                                    None     None   \n",
            "...                                                   ...      ...   \n",
            "181621                                               None     None   \n",
            "181622  Nineteen years (19) experience in Airline grou...     None   \n",
            "181623                                               None     None   \n",
            "181624  Experienced in Mine, Engineering and Non-title...     None   \n",
            "181625                                               None     None   \n",
            "\n",
            "                                                education  \\\n",
            "0                                                    None   \n",
            "1                                                    None   \n",
            "2                                                    None   \n",
            "3                                                    None   \n",
            "4       [{'degree': [], 'description': None, 'duration...   \n",
            "...                                                   ...   \n",
            "181621                                               None   \n",
            "181622  [{'degree': ['Ex Bachelor of Science Politics ...   \n",
            "181623                                               None   \n",
            "181624  [{'degree': ['Diploma In Land Surveying', 'Sur...   \n",
            "181625                                               None   \n",
            "\n",
            "                                                languages       parsed_city  \\\n",
            "0       {'prof_0_langs': None, 'prof_1_langs': None, '...  andorra la vella   \n",
            "1       {'prof_0_langs': None, 'prof_1_langs': None, '...           andorra   \n",
            "2       {'prof_0_langs': None, 'prof_1_langs': None, '...           andorra   \n",
            "3       {'prof_0_langs': None, 'prof_1_langs': None, '...           andorra   \n",
            "4       {'prof_0_langs': None, 'prof_1_langs': None, '...           andorra   \n",
            "...                                                   ...               ...   \n",
            "181621  {'prof_0_langs': None, 'prof_1_langs': None, '...              None   \n",
            "181622  {'prof_0_langs': None, 'prof_1_langs': None, '...            harare   \n",
            "181623  {'prof_0_langs': None, 'prof_1_langs': None, '...              None   \n",
            "181624  {'prof_0_langs': None, 'prof_1_langs': ['Portu...              None   \n",
            "181625  {'prof_0_langs': None, 'prof_1_langs': None, '...              None   \n",
            "\n",
            "       parsed_state                                 slug  \\\n",
            "0              None     amelia-verdugo-chanoca-3879491bb   \n",
            "1              None           bartomeu-gabriel-810692132   \n",
            "2              None  danny-esau-herrera-pineda-0616b3120   \n",
            "3              None                ester-choren-079b4a17   \n",
            "4              None            jaume-balsellsj-89b002109   \n",
            "...             ...                                  ...   \n",
            "181621         None         wellington-mukunya-bab250126   \n",
            "181622         None             willard-munjoma-1b2327a4   \n",
            "181623         None             william-mazviro-27907039   \n",
            "181624         None             william-simango-a3424372   \n",
            "181625         None          zesulwe-mnkandhla-5b0037176   \n",
            "\n",
            "                                       latest_experiences  \\\n",
            "0       [{'company_name': None, 'duration': None, 'end...   \n",
            "1                                                    None   \n",
            "2       [{'company_name': None, 'duration': None, 'end...   \n",
            "3       [{'company_name': None, 'duration': None, 'end...   \n",
            "4                                                    None   \n",
            "...                                                   ...   \n",
            "181621                                               None   \n",
            "181622  [{'company_name': None, 'duration': '8 years 8...   \n",
            "181623  [{'company_name': None, 'duration': None, 'end...   \n",
            "181624  [{'company_name': None, 'duration': '11 years ...   \n",
            "181625                                               None   \n",
            "\n",
            "                                        latest_experience  \n",
            "0       {'company_name': None, 'duration': None, 'end_...  \n",
            "1                                                    None  \n",
            "2       {'company_name': None, 'duration': None, 'end_...  \n",
            "3       {'company_name': None, 'duration': None, 'end_...  \n",
            "4                                                    None  \n",
            "...                                                   ...  \n",
            "181621                                               None  \n",
            "181622  {'company_name': None, 'duration': '8 years 8 ...  \n",
            "181623  {'company_name': None, 'duration': None, 'end_...  \n",
            "181624  {'company_name': None, 'duration': '11 years 7...  \n",
            "181625                                               None  \n",
            "\n",
            "[181626 rows x 15 columns]\n"
          ]
        }
      ]
    },
    {
      "cell_type": "code",
      "source": [
        "!pip install fasttext"
      ],
      "metadata": {
        "colab": {
          "base_uri": "https://localhost:8080/"
        },
        "id": "GfT7vVP0YIts",
        "outputId": "5269c5e1-0fff-4bb5-b711-b65f9841bf93"
      },
      "execution_count": null,
      "outputs": [
        {
          "output_type": "stream",
          "name": "stdout",
          "text": [
            "Collecting fasttext\n",
            "  Downloading fasttext-0.9.2.tar.gz (68 kB)\n",
            "\u001b[2K     \u001b[90m━━━━━━━━━━━━━━━━━━━━━━━━━━━━━━━━━━━━━━━━\u001b[0m \u001b[32m68.8/68.8 kB\u001b[0m \u001b[31m1.9 MB/s\u001b[0m eta \u001b[36m0:00:00\u001b[0m\n",
            "\u001b[?25h  Preparing metadata (setup.py) ... \u001b[?25l\u001b[?25hdone\n",
            "Collecting pybind11>=2.2 (from fasttext)\n",
            "  Using cached pybind11-2.12.0-py3-none-any.whl (234 kB)\n",
            "Requirement already satisfied: setuptools>=0.7.0 in /usr/local/lib/python3.10/dist-packages (from fasttext) (67.7.2)\n",
            "Requirement already satisfied: numpy in /usr/local/lib/python3.10/dist-packages (from fasttext) (1.25.2)\n",
            "Building wheels for collected packages: fasttext\n",
            "  Building wheel for fasttext (setup.py) ... \u001b[?25l\u001b[?25hdone\n",
            "  Created wheel for fasttext: filename=fasttext-0.9.2-cp310-cp310-linux_x86_64.whl size=4227137 sha256=3a96ad905c74eaee6c4b0f29308283c2e0d412b6b8106bf150e99cea70dcc20a\n",
            "  Stored in directory: /root/.cache/pip/wheels/a5/13/75/f811c84a8ab36eedbaef977a6a58a98990e8e0f1967f98f394\n",
            "Successfully built fasttext\n",
            "Installing collected packages: pybind11, fasttext\n",
            "Successfully installed fasttext-0.9.2 pybind11-2.12.0\n"
          ]
        }
      ]
    },
    {
      "cell_type": "code",
      "source": [
        "import pandas as pd\n",
        "import fasttext\n",
        "parquet_file_path = '/content/part-00199-4e325fbe-f437-4b53-8a36-0ef1a9544817-c000.snappy.parquet'\n",
        "df = pd.read_parquet(parquet_file_path)\n",
        "if 'model' not in globals():\n",
        "    model = fasttext.load_model('lid.176.bin')\n",
        "\n",
        "df['language'] = df['country_code'].apply(lambda x: model.predict(x, k=1)[0][0])\n",
        "#output\n",
        "print(df['language'])"
      ],
      "metadata": {
        "colab": {
          "base_uri": "https://localhost:8080/"
        },
        "id": "3QQVVIHiYfFg",
        "outputId": "e1a9b8bb-ab10-42ac-8f57-8b3059f69a91"
      },
      "execution_count": null,
      "outputs": [
        {
          "output_type": "stream",
          "name": "stdout",
          "text": [
            "0         __label__en\n",
            "1         __label__en\n",
            "2         __label__en\n",
            "3         __label__en\n",
            "4         __label__en\n",
            "             ...     \n",
            "181621    __label__en\n",
            "181622    __label__en\n",
            "181623    __label__en\n",
            "181624    __label__en\n",
            "181625    __label__en\n",
            "Name: language, Length: 181626, dtype: object\n"
          ]
        }
      ]
    },
    {
      "cell_type": "markdown",
      "source": [],
      "metadata": {
        "id": "-QcQRLCVRSO7"
      }
    }
  ]
}